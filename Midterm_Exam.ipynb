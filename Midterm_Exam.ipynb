{
  "nbformat": 4,
  "nbformat_minor": 0,
  "metadata": {
    "colab": {
      "name": "Midterm Exam.ipynb",
      "provenance": [],
      "authorship_tag": "ABX9TyPs6k9behxpdtd6+/CdzZL9",
      "include_colab_link": true
    },
    "kernelspec": {
      "name": "python3",
      "display_name": "Python 3"
    },
    "language_info": {
      "name": "python"
    }
  },
  "cells": [
    {
      "cell_type": "markdown",
      "metadata": {
        "id": "view-in-github",
        "colab_type": "text"
      },
      "source": [
        "<a href=\"https://colab.research.google.com/github/sofiahlr/Linear-Algebra-58019/blob/main/Midterm_Exam.ipynb\" target=\"_parent\"><img src=\"https://colab.research.google.com/assets/colab-badge.svg\" alt=\"Open In Colab\"/></a>"
      ]
    },
    {
      "cell_type": "markdown",
      "metadata": {
        "id": "VfxLGG3R_YlT"
      },
      "source": [
        " 1. Create a Python code that displays a square matrix whose length is 5 (10 points)"
      ]
    },
    {
      "cell_type": "code",
      "metadata": {
        "colab": {
          "base_uri": "https://localhost:8080/"
        },
        "id": "9YwT75Ey_Z_Q",
        "outputId": "6041f7c8-fb9e-443f-a2bd-a0154aeaa039"
      },
      "source": [
        "import numpy as np #import Library\n",
        "#Because the length and width of a square matrix are the same, it is referred to as a 5x5 matrix.\n",
        "\n",
        "SquareMatrix = np.array ([[0,2,3,4,5],[2,0,2,3,4],[3,2,0,2,3],[4,3,2,0,2],[5,4,3,2,0]]) #5x5 matrix\n",
        "\n",
        "print(\"This is an example of square matrix whose length is 5\") #optional\n",
        "\n",
        "print() #spacing and also optional\n",
        "\n",
        "print(SquareMatrix) #final answer"
      ],
      "execution_count": 10,
      "outputs": [
        {
          "output_type": "stream",
          "name": "stdout",
          "text": [
            "This is an example of square matrix whose length is 5\n",
            "\n",
            "[[0 2 3 4 5]\n",
            " [2 0 2 3 4]\n",
            " [3 2 0 2 3]\n",
            " [4 3 2 0 2]\n",
            " [5 4 3 2 0]]\n"
          ]
        }
      ]
    },
    {
      "cell_type": "markdown",
      "metadata": {
        "id": "Eyrv_aDUBFLR"
      },
      "source": [
        " 2. Create a Python code that displays a square matrix whose elements below the principal diagonal are zero (10 points)"
      ]
    },
    {
      "cell_type": "code",
      "metadata": {
        "colab": {
          "base_uri": "https://localhost:8080/"
        },
        "id": "dQzfz1c8BHT_",
        "outputId": "2813e7b6-4389-406e-895a-df8d807b8bac"
      },
      "source": [
        " import numpy as np\n",
        "C = np.triu([[1,2,3],[2,4,6],[3,6,9,]])\n",
        "print(C)"
      ],
      "execution_count": 12,
      "outputs": [
        {
          "output_type": "stream",
          "name": "stdout",
          "text": [
            "[[1 2 3]\n",
            " [0 4 6]\n",
            " [0 0 9]]\n"
          ]
        }
      ]
    },
    {
      "cell_type": "markdown",
      "metadata": {
        "id": "rv0AdJnvBHtQ"
      },
      "source": [
        "3. Create a Python code that displays a square matrix which is symmetrical (10 points)"
      ]
    },
    {
      "cell_type": "code",
      "metadata": {
        "colab": {
          "base_uri": "https://localhost:8080/"
        },
        "id": "9tvWxT6uBJ3X",
        "outputId": "5819c263-db89-4bbb-cd48-3ff2ac9148e5"
      },
      "source": [
        "#Create a symmetrical matrix\n",
        "\n",
        "G = np.array([[1,2,3,4,5],[2,1,2,3,4],[3,2,1,2,3],[4,3,2,1,2],[5,4,3,2,1]])\n",
        "print(G)"
      ],
      "execution_count": 11,
      "outputs": [
        {
          "output_type": "stream",
          "name": "stdout",
          "text": [
            "[[1 2 3 4 5]\n",
            " [2 1 2 3 4]\n",
            " [3 2 1 2 3]\n",
            " [4 3 2 1 2]\n",
            " [5 4 3 2 1]]\n"
          ]
        }
      ]
    },
    {
      "cell_type": "markdown",
      "metadata": {
        "id": "HtZRvUn3AV4I"
      },
      "source": [
        "4. What is the inverse of matrix C? Show your solution by python coding. (20 points)"
      ]
    },
    {
      "cell_type": "code",
      "metadata": {
        "colab": {
          "base_uri": "https://localhost:8080/"
        },
        "id": "LPZ6pYTJAW0p",
        "outputId": "483003d0-c249-4ec2-8a9d-0c1cd8ca0d6e"
      },
      "source": [
        "C = np.array ([[1,2,3],\n",
        "               [2,3,3],\n",
        "               [3,4,-2]])\n",
        "\n",
        "invC = np.linalg.inv(C)\n",
        "\n",
        "print(\"Inverse of Matrix C:\")\n",
        "print(invC)"
      ],
      "execution_count": 3,
      "outputs": [
        {
          "output_type": "stream",
          "name": "stdout",
          "text": [
            "Inverse of Matrix C:\n",
            "[[-3.6  3.2 -0.6]\n",
            " [ 2.6 -2.2  0.6]\n",
            " [-0.2  0.4 -0.2]]\n"
          ]
        }
      ]
    },
    {
      "cell_type": "markdown",
      "metadata": {
        "id": "blNT73t2AbfZ"
      },
      "source": [
        "5. What is the determinant of the given matrix in Question 4? Show your solution by python coding. (20 points)"
      ]
    },
    {
      "cell_type": "code",
      "metadata": {
        "colab": {
          "base_uri": "https://localhost:8080/"
        },
        "id": "Zdd1vYbNAeNe",
        "outputId": "9f9e8ea5-c282-4de9-962e-f2b5a97d0a94"
      },
      "source": [
        "C = np.array ([[1,2,3],\n",
        "               [2,3,3],\n",
        "               [3,4,-2]])\n",
        "\n",
        "detOfC = np.linalg.det(C)\n",
        "\n",
        "print(\"Determinant of the given matrix in Question 4:\")\n",
        "print(int(detOfC))"
      ],
      "execution_count": 4,
      "outputs": [
        {
          "output_type": "stream",
          "name": "stdout",
          "text": [
            "Determinant of the given matrix in Question 4:\n",
            "5\n"
          ]
        }
      ]
    },
    {
      "cell_type": "markdown",
      "metadata": {
        "id": "KVbG2r6LAhQJ"
      },
      "source": [
        "6. Find the roots of the linear equations by showing its python codes (30 points)\n",
        "\n",
        "5X1 + 4X2 + X3 = 3.4\n",
        "\n",
        "10X1 + 9X2 + 4X3 = 8.8\n",
        "\n",
        "10X1 + 13X2 + 15X3 = 19.2"
      ]
    },
    {
      "cell_type": "code",
      "metadata": {
        "colab": {
          "base_uri": "https://localhost:8080/"
        },
        "id": "mhdByr4lAj8X",
        "outputId": "19522d0a-ce03-410b-ee9b-d22c97cfa275"
      },
      "source": [
        "eq = np.array([[5,4,1],\n",
        "               [10,9,4],\n",
        "               [10,13,15]])\n",
        "\n",
        "const = np.array([[[3.4],\n",
        "                   [8.8],\n",
        "                   [19.2]]])\n",
        "\n",
        "roots = np.linalg.inv(eq) @ const\n",
        "\n",
        "print(\"Roots of the given linear equations:\")\n",
        "print(roots)"
      ],
      "execution_count": 5,
      "outputs": [
        {
          "output_type": "stream",
          "name": "stdout",
          "text": [
            "Roots of the given linear equations:\n",
            "[[[0.2]\n",
            "  [0.4]\n",
            "  [0.8]]]\n"
          ]
        }
      ]
    }
  ]
}