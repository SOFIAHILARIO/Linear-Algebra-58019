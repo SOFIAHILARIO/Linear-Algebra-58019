{
  "nbformat": 4,
  "nbformat_minor": 0,
  "metadata": {
    "colab": {
      "name": "Coding Activity 3.ipynb",
      "provenance": [],
      "authorship_tag": "ABX9TyOx0q7GIFOzjhq8Jahyd1bc",
      "include_colab_link": true
    },
    "kernelspec": {
      "name": "python3",
      "display_name": "Python 3"
    },
    "language_info": {
      "name": "python"
    }
  },
  "cells": [
    {
      "cell_type": "markdown",
      "metadata": {
        "id": "view-in-github",
        "colab_type": "text"
      },
      "source": [
        "<a href=\"https://colab.research.google.com/github/sofiahlr/Linear-Algebra-58019/blob/main/Coding_Activity_3.ipynb\" target=\"_parent\"><img src=\"https://colab.research.google.com/assets/colab-badge.svg\" alt=\"Open In Colab\"/></a>"
      ]
    },
    {
      "cell_type": "code",
      "metadata": {
        "colab": {
          "base_uri": "https://localhost:8080/"
        },
        "id": "YIrgLpSVQJ3t",
        "outputId": "0215d7e6-6854-4dd0-972c-848c5882eb75"
      },
      "source": [
        "import numpy as np\n",
        "A=np.array([[[4,10,8],[10,26,26],[8,26,61]]]) #creation of matrix A\n",
        "print(A)\n",
        "inv_A=np.linalg.inv(A)\n",
        "print(inv_A)"
      ],
      "execution_count": 4,
      "outputs": [
        {
          "output_type": "stream",
          "name": "stdout",
          "text": [
            "[[[ 4 10  8]\n",
            "  [10 26 26]\n",
            "  [ 8 26 61]]]\n",
            "[[[ 25.27777778 -11.16666667   1.44444444]\n",
            "  [-11.16666667   5.          -0.66666667]\n",
            "  [  1.44444444  -0.66666667   0.11111111]]]\n"
          ]
        }
      ]
    },
    {
      "cell_type": "code",
      "metadata": {
        "colab": {
          "base_uri": "https://localhost:8080/"
        },
        "id": "O1XQ-MmOQefu",
        "outputId": "35a7271c-ea11-4621-e773-25c5251b552f"
      },
      "source": [
        "B=np.array([[[44],[128],[214]]])\n",
        "print(B)"
      ],
      "execution_count": 5,
      "outputs": [
        {
          "output_type": "stream",
          "name": "stdout",
          "text": [
            "[[[ 44]\n",
            "  [128]\n",
            "  [214]]]\n"
          ]
        }
      ]
    },
    {
      "cell_type": "code",
      "metadata": {
        "colab": {
          "base_uri": "https://localhost:8080/"
        },
        "id": "k73DUqBPQnNt",
        "outputId": "aea5c4e9-ec5f-4544-9c38-a0a6451e0bd0"
      },
      "source": [
        "X=np.linalg.inv(A).dot(B)\n",
        "print(X)"
      ],
      "execution_count": 6,
      "outputs": [
        {
          "output_type": "stream",
          "name": "stdout",
          "text": [
            "[[[[-8.]]\n",
            "\n",
            "  [[ 6.]]\n",
            "\n",
            "  [[ 2.]]]]\n"
          ]
        }
      ]
    },
    {
      "cell_type": "code",
      "metadata": {
        "colab": {
          "base_uri": "https://localhost:8080/"
        },
        "id": "WWpQJdfyaIsZ",
        "outputId": "9d5fc85d-a6b0-45d2-9376-3eada683d846"
      },
      "source": [
        "X = np.dot(inv_A,B)\n",
        "print(X)"
      ],
      "execution_count": 7,
      "outputs": [
        {
          "output_type": "stream",
          "name": "stdout",
          "text": [
            "[[[[-8.]]\n",
            "\n",
            "  [[ 6.]]\n",
            "\n",
            "  [[ 2.]]]]\n"
          ]
        }
      ]
    }
  ]
}