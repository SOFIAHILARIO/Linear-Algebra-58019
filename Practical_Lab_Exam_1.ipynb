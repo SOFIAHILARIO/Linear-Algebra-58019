{
  "nbformat": 4,
  "nbformat_minor": 0,
  "metadata": {
    "colab": {
      "name": "Practical Lab Exam 1.ipynb",
      "provenance": [],
      "authorship_tag": "ABX9TyMLGWJCgPAKqqYAXMkZgpIf",
      "include_colab_link": true
    },
    "kernelspec": {
      "name": "python3",
      "display_name": "Python 3"
    },
    "language_info": {
      "name": "python"
    }
  },
  "cells": [
    {
      "cell_type": "markdown",
      "metadata": {
        "id": "view-in-github",
        "colab_type": "text"
      },
      "source": [
        "<a href=\"https://colab.research.google.com/github/sofiahlr/Linear-Algebra-58019/blob/main/Practical_Lab_Exam_1.ipynb\" target=\"_parent\"><img src=\"https://colab.research.google.com/assets/colab-badge.svg\" alt=\"Open In Colab\"/></a>"
      ]
    },
    {
      "cell_type": "markdown",
      "metadata": {
        "id": "2V7g6h9Xnz-T"
      },
      "source": [
        "Practical Lab Exam 1"
      ]
    },
    {
      "cell_type": "code",
      "metadata": {
        "colab": {
          "base_uri": "https://localhost:8080/"
        },
        "id": "yR7RZBfdmPRZ",
        "outputId": "d6c83ca5-098b-439c-dfc9-137a692a393f"
      },
      "source": [
        "import numpy as np\n",
        "A = np.array([[1,2,3],[4,5,5]])\n",
        "B = np.array([[1,2],[3,4],[5,6]])\n",
        "\n",
        "dot = np.dot(A,B)\n",
        "print(dot)"
      ],
      "execution_count": 6,
      "outputs": [
        {
          "output_type": "stream",
          "name": "stdout",
          "text": [
            "[[22 28]\n",
            " [44 58]]\n"
          ]
        }
      ]
    },
    {
      "cell_type": "code",
      "metadata": {
        "colab": {
          "base_uri": "https://localhost:8080/"
        },
        "id": "gQ0mqeArv2S1",
        "outputId": "ef6b2004-e3cb-4b61-ea10-288480c429a7"
      },
      "source": [
        "import numpy as np\n",
        "D = np.array([[1,2],[3,4]])\n",
        "\n",
        "print(D+D)"
      ],
      "execution_count": 11,
      "outputs": [
        {
          "output_type": "stream",
          "name": "stdout",
          "text": [
            "[[2 4]\n",
            " [6 8]]\n"
          ]
        }
      ]
    },
    {
      "cell_type": "code",
      "metadata": {
        "colab": {
          "base_uri": "https://localhost:8080/"
        },
        "id": "t339iDoPxJ_R",
        "outputId": "5748057e-c495-4f8f-f905-4424b5dc24fd"
      },
      "source": [
        "import numpy as np\n",
        "C = np.array([[1,2,3],[4,5,6],[7,8,9]])\n",
        "\n",
        "print(2*C)"
      ],
      "execution_count": 7,
      "outputs": [
        {
          "output_type": "stream",
          "name": "stdout",
          "text": [
            "[[ 2  4  6]\n",
            " [ 8 10 12]\n",
            " [14 16 18]]\n"
          ]
        }
      ]
    },
    {
      "cell_type": "code",
      "metadata": {
        "colab": {
          "base_uri": "https://localhost:8080/"
        },
        "id": "IzZ4pR9_3l_4",
        "outputId": "3eaff255-bae6-4b81-b537-fe81ed98befc"
      },
      "source": [
        "import numpy as np\n",
        "A = np.array([5,3,-1])\n",
        "\n",
        "print(A.size)\n",
        "\n",
        "print(type(A))\n",
        "\n",
        "print(A.shape)\n",
        "\n",
        "print(A.ndim)\n"
      ],
      "execution_count": 12,
      "outputs": [
        {
          "output_type": "stream",
          "name": "stdout",
          "text": [
            "3\n",
            "<class 'numpy.ndarray'>\n",
            "(3,)\n",
            "1\n"
          ]
        }
      ]
    }
  ]
}