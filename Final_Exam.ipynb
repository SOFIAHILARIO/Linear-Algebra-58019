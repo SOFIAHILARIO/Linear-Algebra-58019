{
  "nbformat": 4,
  "nbformat_minor": 0,
  "metadata": {
    "colab": {
      "name": "Final Exam.ipynb",
      "provenance": [],
      "authorship_tag": "ABX9TyP9eH8Qo73DK4kLxX303k2R",
      "include_colab_link": true
    },
    "kernelspec": {
      "name": "python3",
      "display_name": "Python 3"
    },
    "language_info": {
      "name": "python"
    }
  },
  "cells": [
    {
      "cell_type": "markdown",
      "metadata": {
        "id": "view-in-github",
        "colab_type": "text"
      },
      "source": [
        "<a href=\"https://colab.research.google.com/github/sofiahlr/Linear-Algebra-58019/blob/main/Final_Exam.ipynb\" target=\"_parent\"><img src=\"https://colab.research.google.com/assets/colab-badge.svg\" alt=\"Open In Colab\"/></a>"
      ]
    },
    {
      "cell_type": "markdown",
      "source": [
        "Problem 1. Student A, Student B, and Student C have a total of Php 89 cash in their banks. Student A has 6 less than Student C. Student B has 3 times what Student C has. How much does each student have? (30 points)"
      ],
      "metadata": {
        "id": "afr4Z_LNXPIi"
      }
    },
    {
      "cell_type": "code",
      "source": [
        "import numpy as np\n",
        "eq1 =  np.array([[1,1,1],[1,0,4],[0,0,5]])\n",
        "eq2 = np.array([[89,],[89],[95]])\n",
        "\n",
        "amt = np.linalg.inv(eq1).dot(eq2)\n",
        "print(amt)\n"
      ],
      "metadata": {
        "colab": {
          "base_uri": "https://localhost:8080/"
        },
        "id": "9_wMzK-0XOhq",
        "outputId": "391ef346-6bc3-4d18-c1e5-af95dede2013"
      },
      "execution_count": 3,
      "outputs": [
        {
          "output_type": "stream",
          "name": "stdout",
          "text": [
            "[[13.]\n",
            " [57.]\n",
            " [19.]]\n"
          ]
        }
      ]
    },
    {
      "cell_type": "markdown",
      "source": [
        "What property of matrix that can not be done solved by any method in solving Linear Equations. (30 points)"
      ],
      "metadata": {
        "id": "uqfQ1isvaX4S"
      }
    },
    {
      "cell_type": "markdown",
      "source": [
        "The property of matrix that can not be done solved by any method in solving Linear Equations is singular matrix. If a square matrix has no inverse, it is singular. A matrix is singular if its determinant is 0."
      ],
      "metadata": {
        "id": "4mH074_4ap2b"
      }
    },
    {
      "cell_type": "markdown",
      "source": [
        ""
      ],
      "metadata": {
        "id": "6qYJn7Ndakms"
      }
    },
    {
      "cell_type": "markdown",
      "source": [
        "Problem 3. Consider the matrix, (40 points)\n",
        "\n",
        "1. Find the eigenvalue/s\n",
        "2. Find the eigenvectors"
      ],
      "metadata": {
        "id": "IV0b1KpEX-So"
      }
    },
    {
      "cell_type": "code",
      "execution_count": 1,
      "metadata": {
        "colab": {
          "base_uri": "https://localhost:8080/"
        },
        "id": "KgmbSOgHMf8m",
        "outputId": "d72e157f-efc2-4297-8282-9af11a016a0c"
      },
      "outputs": [
        {
          "output_type": "stream",
          "name": "stdout",
          "text": [
            "[[  8   5  -6]\n",
            " [-12  -9  12]\n",
            " [ -3  -3   5]]\n",
            "The eigenvaalues is/are: [-1.  3.  2.]\n",
            "The eigenvectors are: [[ 3.01511345e-01 -7.07106781e-01  7.07106781e-01]\n",
            " [-9.04534034e-01  7.07106781e-01  1.53837015e-15]\n",
            " [-3.01511345e-01 -2.26120075e-15  7.07106781e-01]]\n",
            "[[ 0. -1.  1.]\n",
            " [-1.  1.  0.]\n",
            " [-0. -0.  1.]]\n"
          ]
        }
      ],
      "source": [
        "import numpy as np \n",
        "from numpy.linalg import eig\n",
        "\n",
        "A = np.array([[8,5,-6],[-12,-9,12],[-3,-3,5]])\n",
        "print(A)\n",
        "\n",
        "w,v = np.linalg.eig(A)\n",
        "print(\"The eigenvaalues is/are:\",w)\n",
        "print(\"The eigenvectors are:\",v)\n",
        "\n",
        "x = v.round()\n",
        "print(x)\n"
      ]
    }
  ]
}