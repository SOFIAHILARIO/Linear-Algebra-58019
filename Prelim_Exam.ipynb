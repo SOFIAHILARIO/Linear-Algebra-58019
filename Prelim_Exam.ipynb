{
  "nbformat": 4,
  "nbformat_minor": 0,
  "metadata": {
    "colab": {
      "name": "Prelim Exam.ipynb",
      "provenance": [],
      "authorship_tag": "ABX9TyMChIYQe994NPx3U826v03D",
      "include_colab_link": true
    },
    "kernelspec": {
      "name": "python3",
      "display_name": "Python 3"
    },
    "language_info": {
      "name": "python"
    }
  },
  "cells": [
    {
      "cell_type": "markdown",
      "metadata": {
        "id": "view-in-github",
        "colab_type": "text"
      },
      "source": [
        "<a href=\"https://colab.research.google.com/github/sofiahlr/Linear-Algebra-58019/blob/main/Prelim_Exam.ipynb\" target=\"_parent\"><img src=\"https://colab.research.google.com/assets/colab-badge.svg\" alt=\"Open In Colab\"/></a>"
      ]
    },
    {
      "cell_type": "code",
      "metadata": {
        "colab": {
          "base_uri": "https://localhost:8080/"
        },
        "id": "vbc4XNMbkn_0",
        "outputId": "17b1a0bf-5941-45cb-83d7-514cb6a591d3"
      },
      "source": [
        "import numpy as np\n",
        "c = np.ones((4, 4))\n",
        "\n",
        "c[::2, 1::2] = 2\n",
        "c[1::2, ::2] = 3\n",
        "print(c)"
      ],
      "execution_count": 1,
      "outputs": [
        {
          "output_type": "stream",
          "name": "stdout",
          "text": [
            "[[1. 2. 1. 2.]\n",
            " [3. 1. 3. 1.]\n",
            " [1. 2. 1. 2.]\n",
            " [3. 1. 3. 1.]]\n"
          ]
        }
      ]
    },
    {
      "cell_type": "code",
      "metadata": {
        "colab": {
          "base_uri": "https://localhost:8080/"
        },
        "id": "MqIX2JVilDUa",
        "outputId": "9cdadd75-a4f5-4e7c-daf2-d784f6fbe34d"
      },
      "source": [
        "import numpy as np\n",
        "c = np.ones((4, 4))\n",
        "\n",
        "c[::2, 1::2] = 2\n",
        "c[1::2, ::2] = 3\n",
        "print(c*2)"
      ],
      "execution_count": 2,
      "outputs": [
        {
          "output_type": "stream",
          "name": "stdout",
          "text": [
            "[[2. 4. 2. 4.]\n",
            " [6. 2. 6. 2.]\n",
            " [2. 4. 2. 4.]\n",
            " [6. 2. 6. 2.]]\n"
          ]
        }
      ]
    },
    {
      "cell_type": "code",
      "metadata": {
        "colab": {
          "base_uri": "https://localhost:8080/"
        },
        "id": "PmBAVNdvmkV7",
        "outputId": "8582f212-9040-4481-a66f-c8eea895c785"
      },
      "source": [
        "import numpy as np\n",
        "\n",
        "A = (([2,7,4])) \n",
        "B = (([3,9,8]))\n",
        "\n",
        "output = np.cross(A,B)\n",
        "print(output)"
      ],
      "execution_count": 3,
      "outputs": [
        {
          "output_type": "stream",
          "name": "stdout",
          "text": [
            "[20 -4 -3]\n"
          ]
        }
      ]
    }
  ]
}